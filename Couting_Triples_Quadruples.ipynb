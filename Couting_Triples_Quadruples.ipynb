{
 "cells": [
  {
   "cell_type": "code",
   "execution_count": 15,
   "metadata": {},
   "outputs": [],
   "source": [
    "import numpy as np\n",
    "from numba import njit"
   ]
  },
  {
   "cell_type": "code",
   "execution_count": 31,
   "metadata": {},
   "outputs": [],
   "source": [
    "# irrep for each spatial MO\n",
    "irreps = (1,1,4,1,3,1,4,4,1,1,3,4,2,1,3,4,1,4,1,3,2,1,1,4)\n",
    "\n",
    "nelec = 10\n",
    "\n",
    "# numba wants numpy arrays!\n",
    "occ = np.asarray(list(range(int(nelec/2)))) # closed shell case\n",
    "vir = np.asarray(list(range(occ[-1]+1,len(irreps))))\n",
    "\n",
    "sym_target = 1"
   ]
  },
  {
   "cell_type": "code",
   "execution_count": 26,
   "metadata": {},
   "outputs": [],
   "source": [
    "@njit\n",
    "def sym_mult_table(irrepA, irrepB):\n",
    "    mult_table = np.array([[1,2,3,4],\n",
    "                           [2,1,4,3],\n",
    "                           [3,4,1,2],\n",
    "                           [4,3,2,1]])\n",
    " \n",
    "    return mult_table[irrepA-1, irrepB-1]\n",
    "\n",
    "@njit\n",
    "def count_t3A_t3D(occ, vir, irreps):\n",
    "    nocc = len(occ)\n",
    "    nvir = len(vir)\n",
    "    \n",
    "    ctA = 0\n",
    "    for i in range(nocc):\n",
    "        for j in range(i+1,nocc):\n",
    "            for k in range(j+1,nocc):\n",
    "                for a in range(nvir):\n",
    "                    for b in range(a+1,nvir):\n",
    "                        for c in range(b+1,nvir):\n",
    "                            sym_hole = sym_mult_table(sym_mult_table(irreps[occ[i]],irreps[occ[j]]),irreps[occ[k]])\n",
    "                            sym_particle = sym_mult_table(sym_mult_table(irreps[vir[a]],irreps[vir[b]]),irreps[vir[c]])\n",
    "                            sym_exc = sym_mult_table(sym_hole,sym_particle)\n",
    "                            if sym_exc == sym_target:\n",
    "                                ctA += 1\n",
    "    return ctA\n",
    "\n",
    "@njit\n",
    "def count_t3B_t3C(occ, vir, irreps):\n",
    "    nocc = len(occ)\n",
    "    nvir = len(vir)\n",
    "    \n",
    "    ctB = 0\n",
    "    for i in range(nocc):\n",
    "        for j in range(i+1,nocc):\n",
    "            for k in range(nocc):\n",
    "                for a in range(nvir):\n",
    "                    for b in range(a+1,nvir):\n",
    "                        for c in range(nvir):\n",
    "                            sym_hole = sym_mult_table(sym_mult_table(irreps[occ[i]],irreps[occ[j]]),irreps[occ[k]])\n",
    "                            sym_particle = sym_mult_table(sym_mult_table(irreps[vir[a]],irreps[vir[b]]),irreps[vir[c]])\n",
    "                            sym_exc = sym_mult_table(sym_hole,sym_particle)\n",
    "                            if sym_exc == sym_target:\n",
    "                                ctB += 1\n",
    "    return ctB\n",
    "\n",
    "@njit\n",
    "def count_t4A_t4E(occ, vir, irreps):\n",
    "    nocc = len(occ)\n",
    "    nvir = len(vir)\n",
    "    \n",
    "    ctA = 0\n",
    "    for i in range(nocc):\n",
    "        for j in range(i+1,nocc):\n",
    "            for k in range(j+1,nocc):\n",
    "                for l in range(k+1,nocc):\n",
    "                    for a in range(nvir):\n",
    "                        for b in range(a+1,nvir):\n",
    "                            for c in range(b+1,nvir):\n",
    "                                for d in range(c+1,nvir):\n",
    "                                    sym_hole = sym_mult_table(sym_mult_table(sym_mult_table(irreps[occ[i]],irreps[occ[j]]),irreps[occ[k]]),irreps[occ[l]])\n",
    "                                    sym_particle = sym_mult_table(sym_mult_table(sym_mult_table(irreps[vir[a]],irreps[vir[b]]),irreps[vir[c]]),irreps[vir[d]])\n",
    "                                    sym_exc = sym_mult_table(sym_hole,sym_particle)\n",
    "                                    if sym_exc == sym_target:\n",
    "                                        ctA += 1\n",
    "    return ctA\n",
    "\n",
    "@njit\n",
    "def count_t4B_t4D(occ, vir, irreps):\n",
    "    nocc = len(occ)\n",
    "    nvir = len(vir)\n",
    "    \n",
    "    ctB = 0\n",
    "    for i in range(nocc):\n",
    "        for j in range(i+1,nocc):\n",
    "            for k in range(j+1,nocc):\n",
    "                for l in range(nocc):\n",
    "                    for a in range(nvir):\n",
    "                        for b in range(a+1,nvir):\n",
    "                            for c in range(b+1,nvir):\n",
    "                                for d in range(nvir):\n",
    "                                    sym_hole = sym_mult_table(sym_mult_table(sym_mult_table(irreps[occ[i]],irreps[occ[j]]),irreps[occ[k]]),irreps[occ[l]])\n",
    "                                    sym_particle = sym_mult_table(sym_mult_table(sym_mult_table(irreps[vir[a]],irreps[vir[b]]),irreps[vir[c]]),irreps[vir[d]])\n",
    "                                    sym_exc = sym_mult_table(sym_hole,sym_particle)\n",
    "                                    if sym_exc == sym_target:\n",
    "                                        ctB += 1\n",
    "    return ctB\n",
    "\n",
    "@njit\n",
    "def count_t4C(occ, vir, irreps):\n",
    "    nocc = len(occ)\n",
    "    nvir = len(vir)\n",
    "    \n",
    "    ctC = 0\n",
    "    for i in range(nocc):\n",
    "        for j in range(i+1,nocc):\n",
    "            for k in range(nocc):\n",
    "                for l in range(k+1,nocc):\n",
    "                    for a in range(nvir):\n",
    "                        for b in range(a+1,nvir):\n",
    "                            for c in range(nvir):\n",
    "                                for d in range(c+1,nvir):\n",
    "                                    sym_hole = sym_mult_table(sym_mult_table(sym_mult_table(irreps[occ[i]],irreps[occ[j]]),irreps[occ[k]]),irreps[occ[l]])\n",
    "                                    sym_particle = sym_mult_table(sym_mult_table(sym_mult_table(irreps[vir[a]],irreps[vir[b]]),irreps[vir[c]]),irreps[vir[d]])\n",
    "                                    sym_exc = sym_mult_table(sym_hole,sym_particle)\n",
    "                                    if sym_exc == sym_target:\n",
    "                                        ctC += 1\n",
    "    return ctC"
   ]
  },
  {
   "cell_type": "code",
   "execution_count": 27,
   "metadata": {},
   "outputs": [],
   "source": [
    "num_triples = 2*count_t3A_t3D(occ, vir, irreps) + 2*count_t3B_t3C(occ, vir, irreps)"
   ]
  },
  {
   "cell_type": "code",
   "execution_count": 28,
   "metadata": {},
   "outputs": [],
   "source": [
    "num_quadruples = 2*count_t4A_t4E(occ, vir, irreps) + 2*count_t4B_t4D(occ, vir, irreps) + count_t4C(occ, vir, irreps)"
   ]
  },
  {
   "cell_type": "code",
   "execution_count": 29,
   "metadata": {},
   "outputs": [
    {
     "data": {
      "text/plain": [
       "86864"
      ]
     },
     "execution_count": 29,
     "metadata": {},
     "output_type": "execute_result"
    }
   ],
   "source": [
    "num_triples"
   ]
  },
  {
   "cell_type": "code",
   "execution_count": 30,
   "metadata": {},
   "outputs": [
    {
     "data": {
      "text/plain": [
       "1201298"
      ]
     },
     "execution_count": 30,
     "metadata": {},
     "output_type": "execute_result"
    }
   ],
   "source": [
    "num_quadruples"
   ]
  }
 ],
 "metadata": {
  "kernelspec": {
   "display_name": "Python 3",
   "language": "python",
   "name": "python3"
  },
  "language_info": {
   "codemirror_mode": {
    "name": "ipython",
    "version": 3
   },
   "file_extension": ".py",
   "mimetype": "text/x-python",
   "name": "python",
   "nbconvert_exporter": "python",
   "pygments_lexer": "ipython3",
   "version": "3.7.3"
  }
 },
 "nbformat": 4,
 "nbformat_minor": 2
}
